{
 "cells": [
  {
   "cell_type": "markdown",
   "metadata": {},
   "source": [
    "# Attendance Report\n",
    "#### Electronic Music \n",
    "###### Online week 2: 3/30/20 - 4/3/20\n",
    "- For students to be marked present in a two day AB cycle, they must do <b>one</b> of the following:\n",
    "    - Verify attendance with Daily Check In (Forms)\n",
    "    - Submit classwork (Forms)\n",
    "    - Interact on Teams or Outlook. \n",
    "        - This dataset does not account for Microsoft Teams/Outlook interactions. It is the teachers responsibility to monitor this activity, then update attendance in Focus accordingly. \n",
    "        - This dataset shows who is signing in and submitting work, not who is interacting on Teams or sending emails."
   ]
  },
  {
   "cell_type": "code",
   "execution_count": null,
   "metadata": {},
   "outputs": [],
   "source": [
    "# import attendance library\n",
    "from Insights import attendance\n",
    "\n",
    "# initialize attendance\n",
    "a = attendance()"
   ]
  },
  {
   "cell_type": "markdown",
   "metadata": {},
   "source": [
    "### Two day attendance cycle\n",
    "This next table shows all absent students in a given two day AB cycle. The rows are sorted by class, making it easy to transfer this data into Focus."
   ]
  },
  {
   "cell_type": "code",
   "execution_count": null,
   "metadata": {},
   "outputs": [],
   "source": [
    "a.absent('2020-04-28', '2020-04-29')"
   ]
  },
  {
   "cell_type": "markdown",
   "metadata": {},
   "source": [
    "## Total Absences\n",
    "This table displays each students <b>total number of absences</b>. It's important to remember that students are technically only required to be present 1/2 days because of AB cycles. The most noteworthy part of this data set is the students who have 10 total absences. These students have not yet signed in, submitted work or posted on Teams, despite my multiple attempts to contact them. "
   ]
  },
  {
   "cell_type": "code",
   "execution_count": null,
   "metadata": {},
   "outputs": [],
   "source": [
    "# attendance data sorted by total number of absences\n",
    "a.total_absent"
   ]
  },
  {
   "cell_type": "markdown",
   "metadata": {},
   "source": [
    "## Attendance in Focus format\n",
    "This is the complete attendance sheet. It is automatically generated using class roster and Microsoft Forms data. "
   ]
  },
  {
   "cell_type": "markdown",
   "metadata": {},
   "source": [
    "## Absence Tracker\n",
    "The objective is to minimize total absences. This is the <b>key performance indicator (KPI)</b>. Here are some visualizations to show patterns & trends in absences. "
   ]
  },
  {
   "cell_type": "code",
   "execution_count": null,
   "metadata": {
    "scrolled": false
   },
   "outputs": [],
   "source": [
    "# visualize dataset\n",
    "a.dashboard()"
   ]
  },
  {
   "cell_type": "markdown",
   "metadata": {},
   "source": [
    "###### This attendance report was created by Wesley Laurence (laurencew@duvalschools.org)"
   ]
  }
 ],
 "metadata": {
  "kernelspec": {
   "display_name": "Python 3",
   "language": "python",
   "name": "python3"
  },
  "language_info": {
   "codemirror_mode": {
    "name": "ipython",
    "version": 3
   },
   "file_extension": ".py",
   "mimetype": "text/x-python",
   "name": "python",
   "nbconvert_exporter": "python",
   "pygments_lexer": "ipython3",
   "version": "3.6.10"
  }
 },
 "nbformat": 4,
 "nbformat_minor": 1
}
